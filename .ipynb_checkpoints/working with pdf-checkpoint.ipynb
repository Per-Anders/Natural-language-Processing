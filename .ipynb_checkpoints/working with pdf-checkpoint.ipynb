{
 "cells": [
  {
   "cell_type": "code",
   "execution_count": 3,
   "id": "00b2051f",
   "metadata": {},
   "outputs": [
    {
     "name": "stdout",
     "output_type": "stream",
     "text": [
      "Collecting PyPDF2\n",
      "  Downloading https://files.pythonhosted.org/packages/8e/5e/c86a5643653825d3c913719e788e41386bee415c2b87b4f955432f2de6b2/pypdf2-3.0.1-py3-none-any.whl (232kB)\n",
      "Requirement already satisfied: typing_extensions>=3.10.0.0; python_version < \"3.10\" in c:\\users\\perab\\anaconda3\\envs\\nlp_course\\lib\\site-packages (from PyPDF2) (4.4.0)\n",
      "Installing collected packages: PyPDF2\n",
      "Successfully installed PyPDF2-3.0.1\n",
      "Note: you may need to restart the kernel to use updated packages.\n"
     ]
    }
   ],
   "source": [
    "pip install PyPDF2"
   ]
  },
  {
   "cell_type": "code",
   "execution_count": 4,
   "id": "0feece9d",
   "metadata": {},
   "outputs": [],
   "source": [
    "import PyPDF2"
   ]
  },
  {
   "cell_type": "code",
   "execution_count": 19,
   "id": "af50ad1d",
   "metadata": {},
   "outputs": [],
   "source": [
    "file = open('sample.pdf', mode='rb')"
   ]
  },
  {
   "cell_type": "code",
   "execution_count": 20,
   "id": "b5178e44",
   "metadata": {},
   "outputs": [],
   "source": [
    "pdf_reader = PyPDF2.PdfReader(file)"
   ]
  },
  {
   "cell_type": "code",
   "execution_count": 21,
   "id": "9dbe99ab",
   "metadata": {},
   "outputs": [],
   "source": [
    "number_of_pages = len(pdf_reader.pages)"
   ]
  },
  {
   "cell_type": "code",
   "execution_count": 30,
   "id": "5120c88b",
   "metadata": {},
   "outputs": [],
   "source": [
    "page = pdf_reader.pages[0]\n",
    "text = page.extract_text()"
   ]
  },
  {
   "cell_type": "code",
   "execution_count": 31,
   "id": "d25be09b",
   "metadata": {},
   "outputs": [
    {
     "name": "stdout",
     "output_type": "stream",
     "text": [
      " A Simple PDF File \n",
      " This is a small demonstration .pdf file - \n",
      " just for use in the Virtual Mechanics tutorials. More text. And more \n",
      " text. And more text. And more text. And more text. \n",
      " And more text. And more text. And more text. And more text. And more \n",
      " text. And more text. Boring, zzzzz. And more text. And more text. And \n",
      " more text. And more text. And more text. And more text. And more text. \n",
      " And more text. And more text. \n",
      " And more text. And more text. And more text. And more text. And more \n",
      " text. And more text. And more text. Even more. Continued on page 2 ...\n"
     ]
    }
   ],
   "source": [
    "print(text)"
   ]
  },
  {
   "cell_type": "code",
   "execution_count": 32,
   "id": "94c9f4c0",
   "metadata": {},
   "outputs": [],
   "source": [
    "file.close()"
   ]
  },
  {
   "cell_type": "code",
   "execution_count": 33,
   "id": "cb8cee64",
   "metadata": {},
   "outputs": [],
   "source": [
    "f = open(\"sample.pdf\", 'rb')"
   ]
  },
  {
   "cell_type": "code",
   "execution_count": 35,
   "id": "13977536",
   "metadata": {},
   "outputs": [],
   "source": [
    "reader = PyPDF2.PdfReader(f)"
   ]
  },
  {
   "cell_type": "code",
   "execution_count": 36,
   "id": "793098af",
   "metadata": {},
   "outputs": [],
   "source": [
    "first_page = reader.pages[0]"
   ]
  },
  {
   "cell_type": "code",
   "execution_count": 38,
   "id": "12fbb570",
   "metadata": {},
   "outputs": [],
   "source": [
    "pdf_writer = PyPDF2.PdfWriter()"
   ]
  },
  {
   "cell_type": "code",
   "execution_count": 40,
   "id": "54b69353",
   "metadata": {},
   "outputs": [
    {
     "data": {
      "text/plain": [
       "{'/Type': '/Page',\n",
       " '/Resources': {'/Font': {'/F1': {'/Type': '/Font',\n",
       "    '/Subtype': '/Type1',\n",
       "    '/Name': '/F1',\n",
       "    '/BaseFont': '/Helvetica',\n",
       "    '/Encoding': '/WinAnsiEncoding'}},\n",
       "  '/ProcSet': ['/PDF', '/Text']},\n",
       " '/MediaBox': [0, 0, 612, 792],\n",
       " '/Contents': {},\n",
       " '/Parent': {'/Type': '/Pages',\n",
       "  '/Count': 1,\n",
       "  '/Kids': [IndirectObject(4, 0, 2114677819784)]}}"
      ]
     },
     "execution_count": 40,
     "metadata": {},
     "output_type": "execute_result"
    }
   ],
   "source": [
    "pdf_writer.add_page(first_page)"
   ]
  },
  {
   "cell_type": "code",
   "execution_count": 41,
   "id": "47efff16",
   "metadata": {},
   "outputs": [],
   "source": [
    "pdf_output = open(\"from_python.pdf\", 'wb')"
   ]
  },
  {
   "cell_type": "code",
   "execution_count": 42,
   "id": "9ef51d7e",
   "metadata": {},
   "outputs": [
    {
     "data": {
      "text/plain": [
       "(False, <_io.BufferedWriter name='from_python.pdf'>)"
      ]
     },
     "execution_count": 42,
     "metadata": {},
     "output_type": "execute_result"
    }
   ],
   "source": [
    "pdf_writer.write(pdf_output)"
   ]
  },
  {
   "cell_type": "code",
   "execution_count": 43,
   "id": "687d8331",
   "metadata": {},
   "outputs": [],
   "source": [
    "pdf_output.close()"
   ]
  },
  {
   "cell_type": "code",
   "execution_count": null,
   "id": "ef326d24",
   "metadata": {},
   "outputs": [],
   "source": []
  },
  {
   "cell_type": "code",
   "execution_count": 50,
   "id": "b6f8032e",
   "metadata": {},
   "outputs": [
    {
     "name": "stdout",
     "output_type": "stream",
     "text": [
      " A Simple PDF File \n",
      " This is a small demonstration .pdf file - \n",
      " just for use in the Virtual Mechanics tutorials. More text. And more \n",
      " text. And more text. And more text. And more text. \n",
      " And more text. And more text. And more text. And more text. And more \n",
      " text. And more text. Boring, zzzzz. And more text. And more text. And \n",
      " more text. And more text. And more text. And more text. And more text. \n",
      " And more text. And more text. \n",
      " And more text. And more text. And more text. And more text. And more \n",
      " text. And more text. And more text. Even more. Continued on page 2 ...\n"
     ]
    }
   ],
   "source": [
    "new = open('from_python.pdf',mode='rb')\n",
    "reader = PyPDF2.PdfReader(new)\n",
    "page = reader.pages[0]\n",
    "text = page.extract_text()\n",
    "print(text)"
   ]
  },
  {
   "cell_type": "code",
   "execution_count": 64,
   "id": "aa9e285a",
   "metadata": {},
   "outputs": [],
   "source": [
    "f = open(\"sample.pdf\", 'rb')\n",
    "pdf_text = []\n",
    "reader = PyPDF2.PdfReader(f)\n",
    "\n",
    "for p in range(len(reader.pages)):\n",
    "    page = reader.pages[p]\n",
    "    pdf_text.append(page.extract_text())\n",
    "    \n",
    "f.close()"
   ]
  },
  {
   "cell_type": "code",
   "execution_count": 65,
   "id": "eac07b97",
   "metadata": {},
   "outputs": [
    {
     "data": {
      "text/plain": [
       "[' A Simple PDF File \\n This is a small demonstration .pdf file - \\n just for use in the Virtual Mechanics tutorials. More text. And more \\n text. And more text. And more text. And more text. \\n And more text. And more text. And more text. And more text. And more \\n text. And more text. Boring, zzzzz. And more text. And more text. And \\n more text. And more text. And more text. And more text. And more text. \\n And more text. And more text. \\n And more text. And more text. And more text. And more text. And more \\n text. And more text. And more text. Even more. Continued on page 2 ...',\n",
       " ' Simple PDF File 2 \\n ...continued from page 1. Yet more text. And more text. And more text. \\n And more text. And more text. And more text. And more text. And more \\n text. Oh, how boring typing this stuff. But not as boring as watching \\n paint dry. And more text. And more text. And more text. And more text. \\n Boring.  More, a little more text. The end, and just as well. ']"
      ]
     },
     "execution_count": 65,
     "metadata": {},
     "output_type": "execute_result"
    }
   ],
   "source": [
    "pdf_text"
   ]
  },
  {
   "cell_type": "code",
   "execution_count": 68,
   "id": "92b22965",
   "metadata": {},
   "outputs": [
    {
     "name": "stdout",
     "output_type": "stream",
     "text": [
      " A Simple PDF File \n",
      " This is a small demonstration .pdf file - \n",
      " just for use in the Virtual Mechanics tutorials. More text. And more \n",
      " text. And more text. And more text. And more text. \n",
      " And more text. And more text. And more text. And more text. And more \n",
      " text. And more text. Boring, zzzzz. And more text. And more text. And \n",
      " more text. And more text. And more text. And more text. And more text. \n",
      " And more text. And more text. \n",
      " And more text. And more text. And more text. And more text. And more \n",
      " text. And more text. And more text. Even more. Continued on page 2 ...\n",
      "\n",
      "\n",
      "\n",
      " Simple PDF File 2 \n",
      " ...continued from page 1. Yet more text. And more text. And more text. \n",
      " And more text. And more text. And more text. And more text. And more \n",
      " text. Oh, how boring typing this stuff. But not as boring as watching \n",
      " paint dry. And more text. And more text. And more text. And more text. \n",
      " Boring.  More, a little more text. The end, and just as well. \n",
      "\n",
      "\n",
      "\n"
     ]
    }
   ],
   "source": [
    "for page in pdf_text:\n",
    "    print(page)\n",
    "    print('\\n'*2)"
   ]
  },
  {
   "cell_type": "code",
   "execution_count": null,
   "id": "0c6c585a",
   "metadata": {},
   "outputs": [],
   "source": []
  }
 ],
 "metadata": {
  "kernelspec": {
   "display_name": "Python 3 (ipykernel)",
   "language": "python",
   "name": "python3"
  },
  "language_info": {
   "codemirror_mode": {
    "name": "ipython",
    "version": 3
   },
   "file_extension": ".py",
   "mimetype": "text/x-python",
   "name": "python",
   "nbconvert_exporter": "python",
   "pygments_lexer": "ipython3",
   "version": "3.7.15"
  }
 },
 "nbformat": 4,
 "nbformat_minor": 5
}
