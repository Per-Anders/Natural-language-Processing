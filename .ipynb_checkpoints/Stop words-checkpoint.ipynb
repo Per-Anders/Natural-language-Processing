{
 "cells": [
  {
   "cell_type": "code",
   "execution_count": 1,
   "id": "ba86f8c4",
   "metadata": {},
   "outputs": [],
   "source": [
    "import spacy"
   ]
  },
  {
   "cell_type": "code",
   "execution_count": 2,
   "id": "40eb017c",
   "metadata": {},
   "outputs": [],
   "source": [
    "nlp = spacy.load('en_core_web_sm')"
   ]
  },
  {
   "cell_type": "code",
   "execution_count": 3,
   "id": "fcf23902",
   "metadata": {
    "scrolled": true
   },
   "outputs": [
    {
     "name": "stdout",
     "output_type": "stream",
     "text": [
      "{'through', 'therefore', 'what', 'various', 'as', 'show', 'this', 'three', 'by', 'per', 'across', 'few', 'along', 'twelve', 'fifty', 'below', 'myself', 'do', 'many', 'often', 'bottom', 'our', 'several', 'they', 'wherein', 'above', 'rather', 'both', 'whoever', 'eight', 'any', 'with', 'at', 'every', 'anywhere', 'has', 'himself', 'well', 'sixty', 'one', 'anyway', 'might', 'more', 'mostly', 'go', 'herein', 'somewhere', 'whither', 'therein', 'throughout', 'front', 'less', 'same', 'everything', 'my', 'nor', 'among', 'to', 'noone', 'besides', 'when', 'no', 'down', 'ever', 'behind', 'say', 'that', 'even', 'i', 'least', 'his', 'unless', 'between', 'sometimes', 'whom', 'made', 'could', 'ca', 'around', 'nowhere', 'thereby', 'hereafter', 'somehow', 'may', 'not', 'how', 'just', 'seems', 'towards', 'using', 'their', 'over', 'its', 'alone', 'part', 'and', 'all', 'an', 'thus', 'together', 'former', 'being', 'keep', 'than', 'still', 'who', 'else', 'get', 'yours', 'name', 'whereas', 'he', 'mine', 're', 'whole', 'already', 'hundred', 'never', 'much', 'enough', 'within', 'such', 'whereafter', 'amount', 'ours', 'seemed', 'empty', 'her', 'last', 'out', 'side', 'since', 'so', 'full', 'however', 'perhaps', 'then', 'thru', 'wherever', 'up', 'herself', 'thereupon', 'becoming', 'your', 'become', 'but', 'ourselves', 'doing', 'meanwhile', 'nothing', 'others', 'something', 'will', 'does', 'thence', 'too', 'beside', 'nevertheless', 'eleven', 'for', 'further', 'due', 'yet', 'cannot', 'would', 'was', 'whereby', 'been', 'thereafter', 'back', 'him', 'other', 'again', 'are', 'either', 'top', 'themselves', 'beforehand', 'me', 'give', 'first', 'always', 'must', 'had', 'into', 'during', 'whence', 'upon', 'see', 'while', 'there', 'neither', 'call', 'ten', 'off', 'really', 'also', 'here', 'everywhere', 'seeming', 'if', 'until', 'another', 'move', 'itself', 'it', 'afterwards', 'now', 'us', 'elsewhere', 'via', 'against', 'whose', 'except', 'latterly', 'formerly', 'most', 'on', 'after', 'onto', 'please', 'take', 'make', 'serious', 'were', 'them', 'only', 'hence', 'nine', 'everyone', 'amongst', 'beyond', 'should', 'these', 'became', 'whatever', 'why', 'third', 'where', 'yourself', 'someone', 'without', 'anyhow', 'each', 'hers', 'put', 'of', 'nobody', 'regarding', 'about', 'next', 'some', 'though', 'namely', 'own', 'toward', 'anything', 'hereupon', 'which', 'whether', 'be', 'can', 'two', 'anyone', 'we', 'seem', 'from', 'once', 'whenever', 'those', 'done', 'did', 'five', 'forty', 'indeed', 'moreover', 'have', 'in', 'you', 'is', 'used', 'four', 'before', 'under', 'a', 'sometime', 'very', 'she', 'otherwise', 'none', 'quite', 'six', 'whereupon', 'or', 'twenty', 'almost', 'yourselves', 'because', 'am', 'the', 'hereby', 'becomes', 'although', 'fifteen', 'latter'}\n"
     ]
    }
   ],
   "source": [
    "print(nlp.Defaults.stop_words)"
   ]
  },
  {
   "cell_type": "code",
   "execution_count": 4,
   "id": "4dce8a74",
   "metadata": {},
   "outputs": [
    {
     "data": {
      "text/plain": [
       "305"
      ]
     },
     "execution_count": 4,
     "metadata": {},
     "output_type": "execute_result"
    }
   ],
   "source": [
    "len(nlp.Defaults.stop_words)"
   ]
  },
  {
   "cell_type": "code",
   "execution_count": 7,
   "id": "8fd14666",
   "metadata": {},
   "outputs": [
    {
     "data": {
      "text/plain": [
       "True"
      ]
     },
     "execution_count": 7,
     "metadata": {},
     "output_type": "execute_result"
    }
   ],
   "source": [
    "nlp.vocab['is'].is_stop"
   ]
  },
  {
   "cell_type": "code",
   "execution_count": 8,
   "id": "6cd69dd0",
   "metadata": {},
   "outputs": [],
   "source": [
    "nlp.Defaults.stop_words.add('btw')"
   ]
  },
  {
   "cell_type": "code",
   "execution_count": 9,
   "id": "a8cdf7be",
   "metadata": {},
   "outputs": [],
   "source": [
    "nlp.vocab['btw'].is_stop = True"
   ]
  },
  {
   "cell_type": "code",
   "execution_count": 10,
   "id": "f9394e42",
   "metadata": {},
   "outputs": [
    {
     "data": {
      "text/plain": [
       "306"
      ]
     },
     "execution_count": 10,
     "metadata": {},
     "output_type": "execute_result"
    }
   ],
   "source": [
    "len(nlp.Defaults.stop_words)"
   ]
  },
  {
   "cell_type": "code",
   "execution_count": 11,
   "id": "6d447edc",
   "metadata": {},
   "outputs": [],
   "source": [
    "nlp.Defaults.stop_words.remove('beyond')"
   ]
  },
  {
   "cell_type": "code",
   "execution_count": 12,
   "id": "23f4f18c",
   "metadata": {},
   "outputs": [],
   "source": [
    "nlp.vocab['beyond'].is_stop = False"
   ]
  },
  {
   "cell_type": "code",
   "execution_count": 14,
   "id": "118fb0cb",
   "metadata": {},
   "outputs": [
    {
     "data": {
      "text/plain": [
       "False"
      ]
     },
     "execution_count": 14,
     "metadata": {},
     "output_type": "execute_result"
    }
   ],
   "source": [
    "nlp.vocab['beyond'].is_stop "
   ]
  },
  {
   "cell_type": "code",
   "execution_count": null,
   "id": "dbce32be",
   "metadata": {},
   "outputs": [],
   "source": []
  }
 ],
 "metadata": {
  "kernelspec": {
   "display_name": "Python 3 (ipykernel)",
   "language": "python",
   "name": "python3"
  },
  "language_info": {
   "codemirror_mode": {
    "name": "ipython",
    "version": 3
   },
   "file_extension": ".py",
   "mimetype": "text/x-python",
   "name": "python",
   "nbconvert_exporter": "python",
   "pygments_lexer": "ipython3",
   "version": "3.7.15"
  }
 },
 "nbformat": 4,
 "nbformat_minor": 5
}
