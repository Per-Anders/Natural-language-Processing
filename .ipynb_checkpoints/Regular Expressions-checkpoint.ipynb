{
 "cells": [
  {
   "cell_type": "code",
   "execution_count": 1,
   "id": "53a08687",
   "metadata": {},
   "outputs": [],
   "source": [
    "text = \"The phone number of the agent is 408-555-1234. Call soon!\""
   ]
  },
  {
   "cell_type": "code",
   "execution_count": 2,
   "id": "9f1a2091",
   "metadata": {},
   "outputs": [
    {
     "data": {
      "text/plain": [
       "True"
      ]
     },
     "execution_count": 2,
     "metadata": {},
     "output_type": "execute_result"
    }
   ],
   "source": [
    "\"phone\" in text"
   ]
  },
  {
   "cell_type": "code",
   "execution_count": 3,
   "id": "22ae6e08",
   "metadata": {},
   "outputs": [
    {
     "data": {
      "text/plain": [
       "True"
      ]
     },
     "execution_count": 3,
     "metadata": {},
     "output_type": "execute_result"
    }
   ],
   "source": [
    "\"408-555-1234\" in text"
   ]
  },
  {
   "cell_type": "code",
   "execution_count": 4,
   "id": "61c7f0ae",
   "metadata": {},
   "outputs": [],
   "source": [
    "import re"
   ]
  },
  {
   "cell_type": "code",
   "execution_count": 5,
   "id": "5222d10e",
   "metadata": {},
   "outputs": [],
   "source": [
    "pattern = \"phone\"\n"
   ]
  },
  {
   "cell_type": "code",
   "execution_count": 6,
   "id": "84ca22f2",
   "metadata": {},
   "outputs": [
    {
     "data": {
      "text/plain": [
       "<re.Match object; span=(4, 9), match='phone'>"
      ]
     },
     "execution_count": 6,
     "metadata": {},
     "output_type": "execute_result"
    }
   ],
   "source": [
    "re.search(pattern, text)"
   ]
  },
  {
   "cell_type": "code",
   "execution_count": 7,
   "id": "fb04d88e",
   "metadata": {},
   "outputs": [],
   "source": [
    "match = re.search(pattern, text)"
   ]
  },
  {
   "cell_type": "code",
   "execution_count": 8,
   "id": "3a600391",
   "metadata": {},
   "outputs": [
    {
     "data": {
      "text/plain": [
       "(4, 9)"
      ]
     },
     "execution_count": 8,
     "metadata": {},
     "output_type": "execute_result"
    }
   ],
   "source": [
    "match.span()"
   ]
  },
  {
   "cell_type": "code",
   "execution_count": 9,
   "id": "9d0a4a9e",
   "metadata": {},
   "outputs": [
    {
     "data": {
      "text/plain": [
       "4"
      ]
     },
     "execution_count": 9,
     "metadata": {},
     "output_type": "execute_result"
    }
   ],
   "source": [
    "match.start()"
   ]
  },
  {
   "cell_type": "code",
   "execution_count": 10,
   "id": "82ea5ebc",
   "metadata": {},
   "outputs": [
    {
     "data": {
      "text/plain": [
       "9"
      ]
     },
     "execution_count": 10,
     "metadata": {},
     "output_type": "execute_result"
    }
   ],
   "source": [
    "match.end()"
   ]
  },
  {
   "cell_type": "code",
   "execution_count": 11,
   "id": "b965a196",
   "metadata": {},
   "outputs": [],
   "source": [
    "text = \"my phone is a new phone\""
   ]
  },
  {
   "cell_type": "code",
   "execution_count": 12,
   "id": "10eb2c4e",
   "metadata": {},
   "outputs": [],
   "source": [
    "match = re.search(pattern, text)"
   ]
  },
  {
   "cell_type": "code",
   "execution_count": 13,
   "id": "af05ae78",
   "metadata": {},
   "outputs": [
    {
     "data": {
      "text/plain": [
       "(3, 8)"
      ]
     },
     "execution_count": 13,
     "metadata": {},
     "output_type": "execute_result"
    }
   ],
   "source": [
    "match.span()"
   ]
  },
  {
   "cell_type": "code",
   "execution_count": 39,
   "id": "c1889432",
   "metadata": {},
   "outputs": [
    {
     "data": {
      "text/plain": [
       "['phone']"
      ]
     },
     "execution_count": 39,
     "metadata": {},
     "output_type": "execute_result"
    }
   ],
   "source": [
    "re.findall(\"phone\", text)"
   ]
  },
  {
   "cell_type": "code",
   "execution_count": 40,
   "id": "34890ed0",
   "metadata": {},
   "outputs": [
    {
     "name": "stdout",
     "output_type": "stream",
     "text": [
      "(4, 9)\n"
     ]
    }
   ],
   "source": [
    "for match in re.finditer(\"phone\", text):\n",
    "    print(match.span())"
   ]
  },
  {
   "cell_type": "code",
   "execution_count": 49,
   "id": "8b8dd715",
   "metadata": {},
   "outputs": [],
   "source": []
  },
  {
   "cell_type": "code",
   "execution_count": 14,
   "id": "a5d37266",
   "metadata": {},
   "outputs": [],
   "source": [
    "import re\n",
    "#identifies for characters\n",
    "text = 'The phone number of the agent is 408-555-1234. Call soon!'\n",
    "\n",
    "pattern = r'\\d\\d\\d-\\d\\d\\d-d\\d\\d\\d'"
   ]
  },
  {
   "cell_type": "code",
   "execution_count": 15,
   "id": "a058a982",
   "metadata": {},
   "outputs": [
    {
     "name": "stdout",
     "output_type": "stream",
     "text": [
      "None\n"
     ]
    }
   ],
   "source": [
    "phone_number = re.search(pattern, text)\n",
    "print(phone_number)"
   ]
  },
  {
   "cell_type": "code",
   "execution_count": 16,
   "id": "f6359b31",
   "metadata": {},
   "outputs": [],
   "source": [
    "pattern = r\"\\d{3}-\\d{3}-\\d{4}\""
   ]
  },
  {
   "cell_type": "code",
   "execution_count": 17,
   "id": "4037ab40",
   "metadata": {},
   "outputs": [
    {
     "name": "stdout",
     "output_type": "stream",
     "text": [
      "408-555-1234\n"
     ]
    }
   ],
   "source": [
    "r = re.search(pattern, text)\n",
    "print(r.group())"
   ]
  },
  {
   "cell_type": "code",
   "execution_count": 18,
   "id": "d282e9ad",
   "metadata": {},
   "outputs": [],
   "source": [
    "pattern = r\"(\\d{3})-(\\d{3})-(\\d{4})\""
   ]
  },
  {
   "cell_type": "code",
   "execution_count": 24,
   "id": "3e7653a5",
   "metadata": {},
   "outputs": [
    {
     "name": "stdout",
     "output_type": "stream",
     "text": [
      "408\n"
     ]
    }
   ],
   "source": [
    "s = re.search(pattern, text)\n",
    "print(s.group(1))"
   ]
  },
  {
   "cell_type": "code",
   "execution_count": 27,
   "id": "cb5b8296",
   "metadata": {},
   "outputs": [
    {
     "data": {
      "text/plain": [
       "<re.Match object; span=(5, 10), match='woman'>"
      ]
     },
     "execution_count": 27,
     "metadata": {},
     "output_type": "execute_result"
    }
   ],
   "source": [
    "re.search(r\"man|woman\", \"this woman here\")"
   ]
  },
  {
   "cell_type": "code",
   "execution_count": 28,
   "id": "e8749124",
   "metadata": {},
   "outputs": [
    {
     "data": {
      "text/plain": [
       "['cat', 'hat', 'sat']"
      ]
     },
     "execution_count": 28,
     "metadata": {},
     "output_type": "execute_result"
    }
   ],
   "source": [
    "re.findall(r\".at\", \"the cat in the hat sat\")"
   ]
  },
  {
   "cell_type": "code",
   "execution_count": 29,
   "id": "3cc35636",
   "metadata": {},
   "outputs": [
    {
     "data": {
      "text/plain": [
       "['2']"
      ]
     },
     "execution_count": 29,
     "metadata": {},
     "output_type": "execute_result"
    }
   ],
   "source": [
    "re.findall(r\"\\d$\", \"this ends with a number 2\")"
   ]
  },
  {
   "cell_type": "code",
   "execution_count": 30,
   "id": "092a3808",
   "metadata": {},
   "outputs": [
    {
     "data": {
      "text/plain": [
       "['1']"
      ]
     },
     "execution_count": 30,
     "metadata": {},
     "output_type": "execute_result"
    }
   ],
   "source": [
    "re.findall(r\"^\\d\", \"1 is the first number\")"
   ]
  },
  {
   "cell_type": "code",
   "execution_count": 36,
   "id": "366f09f0",
   "metadata": {},
   "outputs": [
    {
     "data": {
      "text/plain": [
       "['there are ', ' numbers, ', ' inside ', ' this sentence']"
      ]
     },
     "execution_count": 36,
     "metadata": {},
     "output_type": "execute_result"
    }
   ],
   "source": [
    "phrase = \"there are 3 numbers, 34 inside 5 this sentence\"\n",
    "re.findall(r\"[^\\d]+\", phrase)"
   ]
  },
  {
   "cell_type": "code",
   "execution_count": 39,
   "id": "1c618407",
   "metadata": {},
   "outputs": [
    {
     "name": "stdout",
     "output_type": "stream",
     "text": [
      "['this', 'is', 'a', 'string', 'but', 'it', 'has', 'punctuation', 'How', 'to', 'remove']\n"
     ]
    }
   ],
   "source": [
    "punc = \"this is a string! but it has punctuation. How to remove?\"\n",
    "my_list = re.findall(f\"[^!.? ]+\", punc)\n",
    "print(my_list)"
   ]
  },
  {
   "cell_type": "code",
   "execution_count": 40,
   "id": "7f62b60b",
   "metadata": {},
   "outputs": [
    {
     "data": {
      "text/plain": [
       "'this is a string but it has punctuation How to remove'"
      ]
     },
     "execution_count": 40,
     "metadata": {},
     "output_type": "execute_result"
    }
   ],
   "source": [
    "' '.join(my_list)"
   ]
  },
  {
   "cell_type": "code",
   "execution_count": 41,
   "id": "94e16cd8",
   "metadata": {},
   "outputs": [
    {
     "data": {
      "text/plain": [
       "['hyphen-words', 'long-ish']"
      ]
     },
     "execution_count": 41,
     "metadata": {},
     "output_type": "execute_result"
    }
   ],
   "source": [
    "text = \"Only find the hyphen-words. Where are the long-ish dash words\"\n",
    "re.findall(r\"[\\w]+-[\\w]+\", text)"
   ]
  },
  {
   "cell_type": "code",
   "execution_count": null,
   "id": "5ce9c62b",
   "metadata": {},
   "outputs": [],
   "source": []
  }
 ],
 "metadata": {
  "kernelspec": {
   "display_name": "Python 3 (ipykernel)",
   "language": "python",
   "name": "python3"
  },
  "language_info": {
   "codemirror_mode": {
    "name": "ipython",
    "version": 3
   },
   "file_extension": ".py",
   "mimetype": "text/x-python",
   "name": "python",
   "nbconvert_exporter": "python",
   "pygments_lexer": "ipython3",
   "version": "3.7.15"
  }
 },
 "nbformat": 4,
 "nbformat_minor": 5
}
