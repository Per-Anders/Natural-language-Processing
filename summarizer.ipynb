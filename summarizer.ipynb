{
 "cells": [
  {
   "cell_type": "code",
   "execution_count": 3,
   "id": "c1b7d7d1",
   "metadata": {},
   "outputs": [
    {
     "name": "stderr",
     "output_type": "stream",
     "text": [
      "No model was supplied, defaulted to sshleifer/distilbart-cnn-12-6 and revision a4f8f3e (https://huggingface.co/sshleifer/distilbart-cnn-12-6).\n",
      "Using a pipeline without specifying a model name and revision in production is not recommended.\n"
     ]
    }
   ],
   "source": [
    "from transformers import pipeline\n",
    "summarizer = pipeline('summarization')\n",
    "\n",
    "article = '''\n",
    "\n",
    "Some key components of argumentation are:\n",
    "\n",
    "Understanding and identifying arguments, either explicit or implied, and the goals of the participants in the different types of dialogue.\n",
    "Identifying the premises from which conclusions are derived.\n",
    "Establishing the \"burden of proof\" – determining who made the initial claim and is thus responsible for providing evidence why his/her position merits acceptance.\n",
    "For the one carrying the \"burden of proof\", the advocate, to marshal evidence for his/her position in order to convince or force the opponent's acceptance. The method by which this is accomplished is producing valid, sound, and cogent arguments, devoid of weaknesses, and not easily attacked.\n",
    "In a debate, fulfillment of the burden of proof creates a burden of rejoinder. One must try to identify faulty reasoning in the opponent's argument, to attack the reasons/premises of the argument, to provide counterexamples if possible, to identify any fallacies, and to show why a valid conclusion cannot be derived from the reasons provided for his/her argument.\n",
    "For example, consider the following exchange, illustrated by the No true Scotsman fallacy:\n",
    "\n",
    "Argument: \"No Scotsman puts sugar on his porridge.\"\n",
    "Reply: \"But my friend Angus likes sugar with his porridge.\"\n",
    "Rebuttal: \"Ah yes, but no true Scotsman puts sugar on his porridge.\"\n",
    "In this dialogue, the proposer first offers a premise, the premise is challenged by the interlocutor, and finally the proposer offers a modification of the premise. This exchange could be part of a larger discussion, for example a murder trial, in which the defendant is a Scotsman, and it had been established earlier that the murderer was eating sugared porridge when he or she committed the murder.\n",
    "'''\n",
    "\n",
    "summary = summarizer(article, max_length=100, min_length=10, do_sample=False)"
   ]
  },
  {
   "cell_type": "code",
   "execution_count": 4,
   "id": "e1e7d828",
   "metadata": {},
   "outputs": [
    {
     "name": "stdout",
     "output_type": "stream",
     "text": [
      "[{'summary_text': ' Some key components of argumentation are: understanding and identifying arguments, or arguments, and the goals of the participants in the different types of dialogue . Establishing the \"burden of proof\" is determining who made the initial claim and is responsible for providing evidence why his/her position merits acceptance .'}]\n"
     ]
    }
   ],
   "source": [
    "print(summary)"
   ]
  },
  {
   "cell_type": "code",
   "execution_count": null,
   "id": "c58f08fa",
   "metadata": {},
   "outputs": [],
   "source": []
  }
 ],
 "metadata": {
  "kernelspec": {
   "display_name": "Python 3 (ipykernel)",
   "language": "python",
   "name": "python3"
  },
  "language_info": {
   "codemirror_mode": {
    "name": "ipython",
    "version": 3
   },
   "file_extension": ".py",
   "mimetype": "text/x-python",
   "name": "python",
   "nbconvert_exporter": "python",
   "pygments_lexer": "ipython3",
   "version": "3.9.12"
  }
 },
 "nbformat": 4,
 "nbformat_minor": 5
}
